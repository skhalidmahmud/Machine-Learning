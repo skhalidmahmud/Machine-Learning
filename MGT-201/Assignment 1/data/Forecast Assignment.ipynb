{
 "cells": [
  {
   "cell_type": "markdown",
   "id": "9d7f7be3",
   "metadata": {},
   "source": [
    "## Assignment-01\n",
    "##### Name: Khalid Mahmud\n",
    "##### ID: 190321022\n",
    "##### Course Name: Industrial and Operational Management\n",
    "##### Course Code: MGT-201\n",
    "##### Program: B.Sc. in CSE (Regular)\n",
    "##### Section: A\n",
    "##### Semester: 11th\n",
    "##### Submission Date: 24-05-2023"
   ]
  },
  {
   "cell_type": "code",
   "execution_count": 1,
   "id": "fc66a080",
   "metadata": {},
   "outputs": [],
   "source": [
    "import pandas as pd\n",
    "import numpy as np\n",
    "import csv\n",
    "#import matplotlib.pyplot as plt\n",
    "#import seaborn as sns\n",
    "\n",
    "import warnings\n",
    "warnings.filterwarnings('always')\n",
    "warnings.filterwarnings('ignore')"
   ]
  },
  {
   "cell_type": "code",
   "execution_count": 2,
   "id": "ddb6a78e",
   "metadata": {},
   "outputs": [],
   "source": [
    "df=[]\n",
    "f = r'./data/data.csv'\n",
    "\n",
    "with open(f,encoding='utf-8-sig') as csvfile:\n",
    "    reader = csv.reader(csvfile)\n",
    "    for row in reader:\n",
    "        df.append(row)\n",
    "col = [x[0] for x in df]"
   ]
  },
  {
   "cell_type": "markdown",
   "id": "5c035745",
   "metadata": {},
   "source": [
    "## Previous Data"
   ]
  },
  {
   "cell_type": "code",
   "execution_count": 3,
   "id": "8c578415",
   "metadata": {},
   "outputs": [
    {
     "data": {
      "text/plain": [
       "[['Month', 'Demand', 'Forecast'],\n",
       " ['May', '100', '100'],\n",
       " ['June', '80', ''],\n",
       " ['July', '110', ''],\n",
       " ['August', '115', ''],\n",
       " ['September', '105', ''],\n",
       " ['October', '110', ''],\n",
       " ['November', '125', ''],\n",
       " ['December', '120', '']]"
      ]
     },
     "execution_count": 3,
     "metadata": {},
     "output_type": "execute_result"
    }
   ],
   "source": [
    "df"
   ]
  },
  {
   "cell_type": "code",
   "execution_count": 4,
   "id": "eacf9b34",
   "metadata": {},
   "outputs": [
    {
     "name": "stdout",
     "output_type": "stream",
     "text": [
      "100\n"
     ]
    }
   ],
   "source": [
    "j = 1\n",
    "for i in range(1, len(df)):\n",
    "    if(df[j][2] == \"\"):\n",
    "        #print(\"Not found\")\n",
    "        df[j][2] = int(df[j-1][2]) + (0.1 * (int(df[j-1][1]) - int(df[j-1][2])))\n",
    "    else:\n",
    "        print(df[j][2])\n",
    "    j = j + 1"
   ]
  },
  {
   "cell_type": "markdown",
   "id": "f4beaeda",
   "metadata": {},
   "source": [
    "## Data after applying Forecast Algo.:"
   ]
  },
  {
   "cell_type": "code",
   "execution_count": 5,
   "id": "bd69baec",
   "metadata": {},
   "outputs": [
    {
     "data": {
      "text/plain": [
       "[['Month', 'Demand', 'Forecast'],\n",
       " ['May', '100', '100'],\n",
       " ['June', '80', 100.0],\n",
       " ['July', '110', 98.0],\n",
       " ['August', '115', 99.2],\n",
       " ['September', '105', 100.6],\n",
       " ['October', '110', 100.5],\n",
       " ['November', '125', 101.0],\n",
       " ['December', '120', 103.4]]"
      ]
     },
     "execution_count": 5,
     "metadata": {},
     "output_type": "execute_result"
    }
   ],
   "source": [
    "df"
   ]
  },
  {
   "cell_type": "markdown",
   "id": "80580506",
   "metadata": {},
   "source": [
    "## Add this on new DF:"
   ]
  },
  {
   "cell_type": "code",
   "execution_count": 6,
   "id": "d97087b1",
   "metadata": {},
   "outputs": [],
   "source": [
    "arr = np.asarray(df)\n",
    "pd.DataFrame(arr).to_csv('forecast_data.csv')  "
   ]
  },
  {
   "cell_type": "markdown",
   "id": "39ac8c8f",
   "metadata": {},
   "source": [
    "## Show all updated Data"
   ]
  },
  {
   "cell_type": "code",
   "execution_count": 7,
   "id": "489c3d44",
   "metadata": {},
   "outputs": [
    {
     "data": {
      "text/html": [
       "<div>\n",
       "<style scoped>\n",
       "    .dataframe tbody tr th:only-of-type {\n",
       "        vertical-align: middle;\n",
       "    }\n",
       "\n",
       "    .dataframe tbody tr th {\n",
       "        vertical-align: top;\n",
       "    }\n",
       "\n",
       "    .dataframe thead th {\n",
       "        text-align: right;\n",
       "    }\n",
       "</style>\n",
       "<table border=\"1\" class=\"dataframe\">\n",
       "  <thead>\n",
       "    <tr style=\"text-align: right;\">\n",
       "      <th></th>\n",
       "      <th>Unnamed: 0</th>\n",
       "      <th>0</th>\n",
       "      <th>1</th>\n",
       "      <th>2</th>\n",
       "    </tr>\n",
       "  </thead>\n",
       "  <tbody>\n",
       "    <tr>\n",
       "      <th>0</th>\n",
       "      <td>0</td>\n",
       "      <td>Month</td>\n",
       "      <td>Demand</td>\n",
       "      <td>Forecast</td>\n",
       "    </tr>\n",
       "    <tr>\n",
       "      <th>1</th>\n",
       "      <td>1</td>\n",
       "      <td>May</td>\n",
       "      <td>100</td>\n",
       "      <td>100</td>\n",
       "    </tr>\n",
       "    <tr>\n",
       "      <th>2</th>\n",
       "      <td>2</td>\n",
       "      <td>June</td>\n",
       "      <td>80</td>\n",
       "      <td>100.0</td>\n",
       "    </tr>\n",
       "    <tr>\n",
       "      <th>3</th>\n",
       "      <td>3</td>\n",
       "      <td>July</td>\n",
       "      <td>110</td>\n",
       "      <td>98.0</td>\n",
       "    </tr>\n",
       "    <tr>\n",
       "      <th>4</th>\n",
       "      <td>4</td>\n",
       "      <td>August</td>\n",
       "      <td>115</td>\n",
       "      <td>99.2</td>\n",
       "    </tr>\n",
       "    <tr>\n",
       "      <th>5</th>\n",
       "      <td>5</td>\n",
       "      <td>September</td>\n",
       "      <td>105</td>\n",
       "      <td>100.6</td>\n",
       "    </tr>\n",
       "    <tr>\n",
       "      <th>6</th>\n",
       "      <td>6</td>\n",
       "      <td>October</td>\n",
       "      <td>110</td>\n",
       "      <td>100.5</td>\n",
       "    </tr>\n",
       "    <tr>\n",
       "      <th>7</th>\n",
       "      <td>7</td>\n",
       "      <td>November</td>\n",
       "      <td>125</td>\n",
       "      <td>101.0</td>\n",
       "    </tr>\n",
       "    <tr>\n",
       "      <th>8</th>\n",
       "      <td>8</td>\n",
       "      <td>December</td>\n",
       "      <td>120</td>\n",
       "      <td>103.4</td>\n",
       "    </tr>\n",
       "  </tbody>\n",
       "</table>\n",
       "</div>"
      ],
      "text/plain": [
       "   Unnamed: 0          0       1         2\n",
       "0           0      Month  Demand  Forecast\n",
       "1           1        May     100       100\n",
       "2           2       June      80     100.0\n",
       "3           3       July     110      98.0\n",
       "4           4     August     115      99.2\n",
       "5           5  September     105     100.6\n",
       "6           6    October     110     100.5\n",
       "7           7   November     125     101.0\n",
       "8           8   December     120     103.4"
      ]
     },
     "execution_count": 7,
     "metadata": {},
     "output_type": "execute_result"
    }
   ],
   "source": [
    "data = pd.read_csv('forecast_data.csv')\n",
    "data"
   ]
  }
 ],
 "metadata": {
  "kernelspec": {
   "display_name": "Python 3 (ipykernel)",
   "language": "python",
   "name": "python3"
  },
  "language_info": {
   "codemirror_mode": {
    "name": "ipython",
    "version": 3
   },
   "file_extension": ".py",
   "mimetype": "text/x-python",
   "name": "python",
   "nbconvert_exporter": "python",
   "pygments_lexer": "ipython3",
   "version": "3.9.12"
  }
 },
 "nbformat": 4,
 "nbformat_minor": 5
}
